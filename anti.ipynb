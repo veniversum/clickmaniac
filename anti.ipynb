{
 "cells": [
  {
   "cell_type": "code",
   "execution_count": 1,
   "metadata": {
    "collapsed": false
   },
   "outputs": [
    {
     "name": "stdout",
     "output_type": "stream",
     "text": [
      "Requirement already satisfied: facebookads in c:\\users\\veniversum\\anaconda2\\envs\\python3\\lib\\site-packages\n",
      "Requirement already satisfied: six>=1.7.3 in c:\\users\\veniversum\\anaconda2\\envs\\python3\\lib\\site-packages (from facebookads)\n",
      "Requirement already satisfied: requests>=2.3.0 in c:\\users\\veniversum\\anaconda2\\envs\\python3\\lib\\site-packages (from facebookads)\n",
      "Requirement already satisfied: urllib3<1.23,>=1.21.1 in c:\\users\\veniversum\\anaconda2\\envs\\python3\\lib\\site-packages (from requests>=2.3.0->facebookads)\n",
      "Requirement already satisfied: idna<2.7,>=2.5 in c:\\users\\veniversum\\anaconda2\\envs\\python3\\lib\\site-packages (from requests>=2.3.0->facebookads)\n",
      "Requirement already satisfied: certifi>=2017.4.17 in c:\\users\\veniversum\\anaconda2\\envs\\python3\\lib\\site-packages (from requests>=2.3.0->facebookads)\n",
      "Requirement already satisfied: chardet<3.1.0,>=3.0.2 in c:\\users\\veniversum\\anaconda2\\envs\\python3\\lib\\site-packages (from requests>=2.3.0->facebookads)\n"
     ]
    }
   ],
   "source": [
    "!pip install facebookads"
   ]
  },
  {
   "cell_type": "code",
   "execution_count": 3,
   "metadata": {
    "collapsed": true
   },
   "outputs": [],
   "source": [
    "import logging\n",
    "from facebookads.api import FacebookAdsApi\n",
    "from facebookads import adobjects"
   ]
  },
  {
   "cell_type": "code",
   "execution_count": 30,
   "metadata": {
    "collapsed": false
   },
   "outputs": [
    {
     "data": {
      "text/plain": [
       "<facebookads.api.FacebookAdsApi at 0x22bf2a4db00>"
      ]
     },
     "execution_count": 30,
     "metadata": {},
     "output_type": "execute_result"
    }
   ],
   "source": [
    "my_app_id = '<redacted>'\n",
    "my_app_secret = '<redacted>'\n",
    "my_access_token = '<redacted>'\n",
    "FacebookAdsApi.init(my_app_id, my_app_secret, my_access_token)"
   ]
  },
  {
   "cell_type": "code",
   "execution_count": 32,
   "metadata": {
    "collapsed": false
   },
   "outputs": [],
   "source": [
    "ad_account = adobjects.adaccount.AdAccount('act_356288071441451')"
   ]
  },
  {
   "cell_type": "code",
   "execution_count": 33,
   "metadata": {
    "collapsed": true
   },
   "outputs": [],
   "source": [
    "honeypot = {\n",
    "        \"age_max\": 26,\n",
    "        \"age_min\": 14,\n",
    "        \"device_platforms\": [\n",
    "            \"mobile\",\n",
    "        ],\n",
    "        \"excluded_connections\": [\n",
    "            {\n",
    "                \"id\": \"103185246428488\",\n",
    "                \"name\": \"The ideas behind the Web\"\n",
    "            }\n",
    "        ],\n",
    "        \"facebook_positions\": [\n",
    "            \"feed\"\n",
    "        ],\n",
    "        \"flexible_spec\": [\n",
    "            {\n",
    "                \"interests\": [\n",
    "                    {\n",
    "                        \"id\": \"6003159378782\",\n",
    "                        \"name\": \"Cats\"\n",
    "                    },\n",
    "                    {\n",
    "                        \"id\": \"6003233049485\",\n",
    "                        \"name\": \"I Love Dogs\"\n",
    "                    },\n",
    "                    {\n",
    "                        \"id\": \"6003332344237\",\n",
    "                        \"name\": \"Dogs\"\n",
    "                    },\n",
    "                    {\n",
    "                        \"id\": \"6004037726009\",\n",
    "                        \"name\": \"Pets\"\n",
    "                    }\n",
    "                ]\n",
    "            }\n",
    "        ],\n",
    "        \"geo_locations\": {\n",
    "            \"countries\": [\n",
    "                \"IN\",\n",
    "                \"ID\",\n",
    "                \"PH\",\n",
    "                \"BD\"\n",
    "            ],\n",
    "            \"location_types\": [\n",
    "                \"home\"\n",
    "            ]\n",
    "        },\n",
    "        \"publisher_platforms\": [\n",
    "            \"facebook\"\n",
    "        ]\n",
    "    }\n",
    "\n",
    "whitelist = ['23842785871030444', '23842785736620444', '23842787744590444']"
   ]
  },
  {
   "cell_type": "code",
   "execution_count": 45,
   "metadata": {
    "collapsed": false
   },
   "outputs": [
    {
     "name": "stderr",
     "output_type": "stream",
     "text": [
      "WARNING:root:Honeypot Triggered: 23842788360600444 -fiveguys_ui_v4_competition\n",
      "WARNING:root:Honeypot Triggered: 23842788289270444 -fiveguys_ui_v4\n"
     ]
    },
    {
     "ename": "FacebookRequestError",
     "evalue": "\n\n  Message: Call was not successful\n  Method:  GET\n  Path:    https://graph.facebook.com/v2.11/23842786765440444/\n  Params:  {'fields': 'targeting,bid_amount,name'}\n\n  Status:  400\n  Response:\n    {\n      \"error\": {\n        \"type\": \"OAuthException\",\n        \"fbtrace_id\": \"HcgbzxeQrR4\",\n        \"is_transient\": true,\n        \"message\": \"(#17) User request limit reached\",\n        \"code\": 17\n      }\n    }\n",
     "output_type": "error",
     "traceback": [
      "\u001b[1;31m---------------------------------------------------------------------------\u001b[0m",
      "\u001b[1;31mFacebookRequestError\u001b[0m                      Traceback (most recent call last)",
      "\u001b[1;32m<ipython-input-45-5f799afa942a>\u001b[0m in \u001b[0;36m<module>\u001b[1;34m()\u001b[0m\n\u001b[0;32m      4\u001b[0m     \u001b[1;32mif\u001b[0m \u001b[0madset\u001b[0m\u001b[1;33m[\u001b[0m\u001b[1;34m'id'\u001b[0m\u001b[1;33m]\u001b[0m \u001b[1;32min\u001b[0m \u001b[0mwhitelist\u001b[0m\u001b[1;33m:\u001b[0m \u001b[1;32mcontinue\u001b[0m\u001b[1;33m\u001b[0m\u001b[0m\n\u001b[0;32m      5\u001b[0m     \u001b[0msuspect_count\u001b[0m \u001b[1;33m=\u001b[0m \u001b[1;36m0\u001b[0m\u001b[1;33m\u001b[0m\u001b[0m\n\u001b[1;32m----> 6\u001b[1;33m     \u001b[0madset\u001b[0m\u001b[1;33m.\u001b[0m\u001b[0mremote_read\u001b[0m\u001b[1;33m(\u001b[0m\u001b[0mfields\u001b[0m\u001b[1;33m=\u001b[0m\u001b[1;33m[\u001b[0m\u001b[1;34m'targeting'\u001b[0m\u001b[1;33m,\u001b[0m \u001b[1;34m'bid_amount'\u001b[0m\u001b[1;33m,\u001b[0m \u001b[1;34m'name'\u001b[0m\u001b[1;33m]\u001b[0m\u001b[1;33m)\u001b[0m\u001b[1;33m\u001b[0m\u001b[0m\n\u001b[0m\u001b[0;32m      7\u001b[0m     \u001b[0mad_target\u001b[0m \u001b[1;33m=\u001b[0m \u001b[0madset\u001b[0m\u001b[1;33m[\u001b[0m\u001b[1;34m'targeting'\u001b[0m\u001b[1;33m]\u001b[0m\u001b[1;33m\u001b[0m\u001b[0m\n\u001b[0;32m      8\u001b[0m     \u001b[1;32mif\u001b[0m \u001b[1;34m'geo_locations'\u001b[0m \u001b[1;32min\u001b[0m \u001b[0mad_target\u001b[0m \u001b[1;32mand\u001b[0m \u001b[0mad_target\u001b[0m\u001b[1;33m[\u001b[0m\u001b[1;34m'geo_locations'\u001b[0m\u001b[1;33m]\u001b[0m \u001b[1;33m==\u001b[0m \u001b[0mhoneypot\u001b[0m\u001b[1;33m[\u001b[0m\u001b[1;34m'geo_locations'\u001b[0m\u001b[1;33m]\u001b[0m\u001b[1;33m:\u001b[0m\u001b[1;33m\u001b[0m\u001b[0m\n",
      "\u001b[1;32m~\\Anaconda2\\envs\\python3\\lib\\site-packages\\facebookads\\adobjects\\abstractcrudobject.py\u001b[0m in \u001b[0;36mremote_read\u001b[1;34m(self, batch, failure, fields, params, success, api_version)\u001b[0m\n\u001b[0;32m    366\u001b[0m             \u001b[1;32mreturn\u001b[0m \u001b[0mbatch_call\u001b[0m\u001b[1;33m\u001b[0m\u001b[0m\n\u001b[0;32m    367\u001b[0m         \u001b[1;32melse\u001b[0m\u001b[1;33m:\u001b[0m\u001b[1;33m\u001b[0m\u001b[0m\n\u001b[1;32m--> 368\u001b[1;33m             \u001b[0mself\u001b[0m \u001b[1;33m=\u001b[0m \u001b[0mrequest\u001b[0m\u001b[1;33m.\u001b[0m\u001b[0mexecute\u001b[0m\u001b[1;33m(\u001b[0m\u001b[1;33m)\u001b[0m\u001b[1;33m\u001b[0m\u001b[0m\n\u001b[0m\u001b[0;32m    369\u001b[0m             \u001b[1;32mreturn\u001b[0m \u001b[0mself\u001b[0m\u001b[1;33m\u001b[0m\u001b[0m\n\u001b[0;32m    370\u001b[0m \u001b[1;33m\u001b[0m\u001b[0m\n",
      "\u001b[1;32m~\\Anaconda2\\envs\\python3\\lib\\site-packages\\facebookads\\api.py\u001b[0m in \u001b[0;36mexecute\u001b[1;34m(self)\u001b[0m\n\u001b[0;32m    672\u001b[0m                 \u001b[0mparams\u001b[0m\u001b[1;33m=\u001b[0m\u001b[0mparams\u001b[0m\u001b[1;33m,\u001b[0m\u001b[1;33m\u001b[0m\u001b[0m\n\u001b[0;32m    673\u001b[0m                 \u001b[0mfiles\u001b[0m\u001b[1;33m=\u001b[0m\u001b[0mfiles\u001b[0m\u001b[1;33m,\u001b[0m\u001b[1;33m\u001b[0m\u001b[0m\n\u001b[1;32m--> 674\u001b[1;33m                 \u001b[0mapi_version\u001b[0m\u001b[1;33m=\u001b[0m\u001b[0mself\u001b[0m\u001b[1;33m.\u001b[0m\u001b[0m_api_version\u001b[0m\u001b[1;33m,\u001b[0m\u001b[1;33m\u001b[0m\u001b[0m\n\u001b[0m\u001b[0;32m    675\u001b[0m             )\n\u001b[0;32m    676\u001b[0m             \u001b[1;32mif\u001b[0m \u001b[0mresponse\u001b[0m\u001b[1;33m.\u001b[0m\u001b[0merror\u001b[0m\u001b[1;33m(\u001b[0m\u001b[1;33m)\u001b[0m\u001b[1;33m:\u001b[0m\u001b[1;33m\u001b[0m\u001b[0m\n",
      "\u001b[1;32m~\\Anaconda2\\envs\\python3\\lib\\site-packages\\facebookads\\api.py\u001b[0m in \u001b[0;36mcall\u001b[1;34m(self, method, path, params, headers, files, url_override, api_version)\u001b[0m\n\u001b[0;32m    330\u001b[0m \u001b[1;33m\u001b[0m\u001b[0m\n\u001b[0;32m    331\u001b[0m         \u001b[1;32mif\u001b[0m \u001b[0mfb_response\u001b[0m\u001b[1;33m.\u001b[0m\u001b[0mis_failure\u001b[0m\u001b[1;33m(\u001b[0m\u001b[1;33m)\u001b[0m\u001b[1;33m:\u001b[0m\u001b[1;33m\u001b[0m\u001b[0m\n\u001b[1;32m--> 332\u001b[1;33m             \u001b[1;32mraise\u001b[0m \u001b[0mfb_response\u001b[0m\u001b[1;33m.\u001b[0m\u001b[0merror\u001b[0m\u001b[1;33m(\u001b[0m\u001b[1;33m)\u001b[0m\u001b[1;33m\u001b[0m\u001b[0m\n\u001b[0m\u001b[0;32m    333\u001b[0m \u001b[1;33m\u001b[0m\u001b[0m\n\u001b[0;32m    334\u001b[0m         \u001b[0mself\u001b[0m\u001b[1;33m.\u001b[0m\u001b[0m_num_requests_succeeded\u001b[0m \u001b[1;33m+=\u001b[0m \u001b[1;36m1\u001b[0m\u001b[1;33m\u001b[0m\u001b[0m\n",
      "\u001b[1;31mFacebookRequestError\u001b[0m: \n\n  Message: Call was not successful\n  Method:  GET\n  Path:    https://graph.facebook.com/v2.11/23842786765440444/\n  Params:  {'fields': 'targeting,bid_amount,name'}\n\n  Status:  400\n  Response:\n    {\n      \"error\": {\n        \"type\": \"OAuthException\",\n        \"fbtrace_id\": \"HcgbzxeQrR4\",\n        \"is_transient\": true,\n        \"message\": \"(#17) User request limit reached\",\n        \"code\": 17\n      }\n    }\n"
     ]
    }
   ],
   "source": [
    "adsets = ad_account.get_ad_sets()\n",
    "skip = True\n",
    "for adset in adsets:\n",
    "    if adset['id'] in whitelist: continue\n",
    "    suspect_count = 0\n",
    "    adset.remote_read(fields=['targeting', 'bid_amount', 'name'])\n",
    "    ad_target = adset['targeting']\n",
    "    if 'geo_locations' in ad_target and ad_target['geo_locations'] == honeypot['geo_locations']:\n",
    "        suspect_count += 1\n",
    "    if 'flexible_spec' in ad_target:\n",
    "        for i in ad_target['flexible_spec'][0]['interests']:\n",
    "            for o in honeypot['flexible_spec'][0]['interests']:\n",
    "                if i == o:\n",
    "                    suspect_count += 0.5\n",
    "    if 'device_platforms' in ad_target and ad_target['device_platforms'] == honeypot['device_platforms']:\n",
    "        suspect_count += 1\n",
    "    suspect_count += 1. / (1 + abs(ad_target['age_max'] - honeypot['age_max']))\n",
    "    suspect_count += 1. / (1 + abs(ad_target['age_min'] - honeypot['age_min']))\n",
    "    if 'facebook_positions' in ad_target and ad_target['facebook_positions'] == honeypot['facebook_positions']:\n",
    "        suspect_count += 1 \n",
    "    if suspect_count > 4:\n",
    "        logging.warning(\"Honeypot Triggered: %s -%s\" % (adset['id'], adset['name']))"
   ]
  }
 ],
 "metadata": {
  "kernelspec": {
   "display_name": "Python 3",
   "language": "python",
   "name": "python3"
  },
  "language_info": {
   "codemirror_mode": {
    "name": "ipython",
    "version": 3
   },
   "file_extension": ".py",
   "mimetype": "text/x-python",
   "name": "python",
   "nbconvert_exporter": "python",
   "pygments_lexer": "ipython3",
   "version": "3.5.2"
  }
 },
 "nbformat": 4,
 "nbformat_minor": 1
}
