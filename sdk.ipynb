{
 "cells": [
  {
   "cell_type": "code",
   "execution_count": 1,
   "metadata": {
    "collapsed": false
   },
   "outputs": [
    {
     "name": "stdout",
     "output_type": "stream",
     "text": [
      "Collecting facebookads\n",
      "  Downloading facebookads-2.11.3.tar.gz (296kB)\n",
      "Requirement already satisfied: requests>=2.3.0 in c:\\users\\veniversum\\anaconda2\\envs\\python3\\lib\\site-packages (from facebookads)\n",
      "Requirement already satisfied: six>=1.7.3 in c:\\users\\veniversum\\anaconda2\\envs\\python3\\lib\\site-packages (from facebookads)\n",
      "Requirement already satisfied: urllib3<1.23,>=1.21.1 in c:\\users\\veniversum\\anaconda2\\envs\\python3\\lib\\site-packages (from requests>=2.3.0->facebookads)\n",
      "Requirement already satisfied: idna<2.7,>=2.5 in c:\\users\\veniversum\\anaconda2\\envs\\python3\\lib\\site-packages (from requests>=2.3.0->facebookads)\n",
      "Requirement already satisfied: certifi>=2017.4.17 in c:\\users\\veniversum\\anaconda2\\envs\\python3\\lib\\site-packages (from requests>=2.3.0->facebookads)\n",
      "Requirement already satisfied: chardet<3.1.0,>=3.0.2 in c:\\users\\veniversum\\anaconda2\\envs\\python3\\lib\\site-packages (from requests>=2.3.0->facebookads)\n",
      "Building wheels for collected packages: facebookads\n",
      "  Running setup.py bdist_wheel for facebookads: started\n",
      "  Running setup.py bdist_wheel for facebookads: finished with status 'done'\n",
      "  Stored in directory: C:\\Users\\Veniversum\\AppData\\Local\\pip\\Cache\\wheels\\24\\e0\\69\\366de5a95e7181d965482c14bee0641b2d5630e4f7ffb1700b\n",
      "Successfully built facebookads\n",
      "Installing collected packages: facebookads\n",
      "Successfully installed facebookads-2.11.3\n"
     ]
    }
   ],
   "source": [
    "!pip install facebookads"
   ]
  },
  {
   "cell_type": "code",
   "execution_count": 12,
   "metadata": {
    "collapsed": false
   },
   "outputs": [
    {
     "data": {
      "text/plain": [
       "<facebookads.api.FacebookAdsApi at 0x2aead751c18>"
      ]
     },
     "execution_count": 12,
     "metadata": {},
     "output_type": "execute_result"
    }
   ],
   "source": [
    "from facebookads.api import FacebookAdsApi\n",
    "from facebookads import adobjects\n",
    "\n",
    "my_app_id = '<redacted>'\n",
    "my_app_secret = '<redacted>'\n",
    "my_access_token = '<redacted>'\n",
    "FacebookAdsApi.init(my_app_id, my_app_secret, my_access_token)"
   ]
  },
  {
   "cell_type": "code",
   "execution_count": 21,
   "metadata": {
    "collapsed": false
   },
   "outputs": [],
   "source": [
    "ad_account = adobjects.adaccount.AdAccount('act_356288071441451')\n",
    "campaign_id = '23842782704250444'"
   ]
  },
  {
   "cell_type": "code",
   "execution_count": 32,
   "metadata": {
    "collapsed": false
   },
   "outputs": [],
   "source": [
    "from facebookads.adobjects.campaign import Campaign\n",
    "from facebookads.adobjects.adset import AdSet"
   ]
  },
  {
   "cell_type": "code",
   "execution_count": 107,
   "metadata": {
    "collapsed": false
   },
   "outputs": [
    {
     "name": "stderr",
     "output_type": "stream",
     "text": [
      "WARNING:root:parent_id as a parameter of constructor is being deprecated.\n"
     ]
    }
   ],
   "source": [
    "campaign = Campaign('23842782704250444', 'act_356288071441451')"
   ]
  },
  {
   "cell_type": "code",
   "execution_count": 51,
   "metadata": {
    "collapsed": true
   },
   "outputs": [
    {
     "name": "stderr",
     "output_type": "stream",
     "text": [
      "WARNING:root:parent_id as a parameter of constructor is being deprecated.\n"
     ]
    },
    {
     "data": {
      "text/plain": [
       "[<TargetingSentenceLine> {\n",
       "    \"id\": \"23842785736620444/targetingsentencelines\",\n",
       "    \"targetingsentencelines\": [\n",
       "        {\n",
       "            \"children\": [\n",
       "                \"Bangladesh\",\n",
       "                \"Indonesia\",\n",
       "                \"India\",\n",
       "                \"Philippines\"\n",
       "            ],\n",
       "            \"content\": \"Location - Living In:\"\n",
       "        },\n",
       "        {\n",
       "            \"children\": [\n",
       "                \"Exclude people who like The ideas behind the Web\"\n",
       "            ],\n",
       "            \"content\": \"Excluded Connections:\"\n",
       "        },\n",
       "        {\n",
       "            \"children\": [\n",
       "                \"14 - 26\"\n",
       "            ],\n",
       "            \"content\": \"Age:\"\n",
       "        },\n",
       "        {\n",
       "            \"children\": [\n",
       "                \"News Feed on desktop computers or News Feed on mobile devices\"\n",
       "            ],\n",
       "            \"content\": \"Placements:\"\n",
       "        },\n",
       "        {\n",
       "            \"children\": [\n",
       "                \"Interests: Cats, I Love Dogs, Dogs or Pets\"\n",
       "            ],\n",
       "            \"content\": \"People Who Match:\"\n",
       "        }\n",
       "    ]\n",
       "}]"
      ]
     },
     "execution_count": 51,
     "metadata": {},
     "output_type": "execute_result"
    }
   ],
   "source": [
    "ads = AdSet('23842785736620444', 'act_356288071441451')\n",
    "ads.get_targeting_sentence_lines"
   ]
  },
  {
   "cell_type": "code",
   "execution_count": 61,
   "metadata": {
    "collapsed": false
   },
   "outputs": [
    {
     "name": "stderr",
     "output_type": "stream",
     "text": [
      "C:\\Users\\Veniversum\\Anaconda2\\envs\\python3\\lib\\site-packages\\facebookads\\utils\\api_utils.py:30: UserWarning:  does not allow field t\n",
      "  warnings.warn(message)\n",
      "C:\\Users\\Veniversum\\Anaconda2\\envs\\python3\\lib\\site-packages\\facebookads\\utils\\api_utils.py:30: UserWarning:  does not allow field a\n",
      "  warnings.warn(message)\n",
      "C:\\Users\\Veniversum\\Anaconda2\\envs\\python3\\lib\\site-packages\\facebookads\\utils\\api_utils.py:30: UserWarning:  does not allow field r\n",
      "  warnings.warn(message)\n",
      "C:\\Users\\Veniversum\\Anaconda2\\envs\\python3\\lib\\site-packages\\facebookads\\utils\\api_utils.py:30: UserWarning:  does not allow field g\n",
      "  warnings.warn(message)\n",
      "C:\\Users\\Veniversum\\Anaconda2\\envs\\python3\\lib\\site-packages\\facebookads\\utils\\api_utils.py:30: UserWarning:  does not allow field e\n",
      "  warnings.warn(message)\n",
      "C:\\Users\\Veniversum\\Anaconda2\\envs\\python3\\lib\\site-packages\\facebookads\\utils\\api_utils.py:30: UserWarning:  does not allow field i\n",
      "  warnings.warn(message)\n",
      "C:\\Users\\Veniversum\\Anaconda2\\envs\\python3\\lib\\site-packages\\facebookads\\utils\\api_utils.py:30: UserWarning:  does not allow field n\n",
      "  warnings.warn(message)\n"
     ]
    },
    {
     "ename": "FacebookRequestError",
     "evalue": "\n\n  Message: Call was not successful\n  Method:  GET\n  Path:    https://graph.facebook.com/v2.11/23842785736620444/\n  Params:  {'fields': 't,a,r,g,e,i,n'}\n\n  Status:  400\n  Response:\n    {\n      \"error\": {\n        \"message\": \"(#100) Tried accessing nonexisting field (t) on node type (AdCampaign)\",\n        \"code\": 100,\n        \"fbtrace_id\": \"Agmr7bpM6Er\",\n        \"type\": \"OAuthException\"\n      }\n    }\n",
     "output_type": "error",
     "traceback": [
      "\u001b[1;31m---------------------------------------------------------------------------\u001b[0m",
      "\u001b[1;31mFacebookRequestError\u001b[0m                      Traceback (most recent call last)",
      "\u001b[1;32m<ipython-input-61-8d591ede1ea8>\u001b[0m in \u001b[0;36m<module>\u001b[1;34m()\u001b[0m\n\u001b[1;32m----> 1\u001b[1;33m \u001b[0mads\u001b[0m\u001b[1;33m.\u001b[0m\u001b[0mremote_read\u001b[0m\u001b[1;33m(\u001b[0m\u001b[0mfields\u001b[0m\u001b[1;33m=\u001b[0m\u001b[1;34m'targeting'\u001b[0m\u001b[1;33m)\u001b[0m\u001b[1;33m\u001b[0m\u001b[0m\n\u001b[0m",
      "\u001b[1;32m~\\Anaconda2\\envs\\python3\\lib\\site-packages\\facebookads\\adobjects\\abstractcrudobject.py\u001b[0m in \u001b[0;36mremote_read\u001b[1;34m(self, batch, failure, fields, params, success, api_version)\u001b[0m\n\u001b[0;32m    366\u001b[0m             \u001b[1;32mreturn\u001b[0m \u001b[0mbatch_call\u001b[0m\u001b[1;33m\u001b[0m\u001b[0m\n\u001b[0;32m    367\u001b[0m         \u001b[1;32melse\u001b[0m\u001b[1;33m:\u001b[0m\u001b[1;33m\u001b[0m\u001b[0m\n\u001b[1;32m--> 368\u001b[1;33m             \u001b[0mself\u001b[0m \u001b[1;33m=\u001b[0m \u001b[0mrequest\u001b[0m\u001b[1;33m.\u001b[0m\u001b[0mexecute\u001b[0m\u001b[1;33m(\u001b[0m\u001b[1;33m)\u001b[0m\u001b[1;33m\u001b[0m\u001b[0m\n\u001b[0m\u001b[0;32m    369\u001b[0m             \u001b[1;32mreturn\u001b[0m \u001b[0mself\u001b[0m\u001b[1;33m\u001b[0m\u001b[0m\n\u001b[0;32m    370\u001b[0m \u001b[1;33m\u001b[0m\u001b[0m\n",
      "\u001b[1;32m~\\Anaconda2\\envs\\python3\\lib\\site-packages\\facebookads\\api.py\u001b[0m in \u001b[0;36mexecute\u001b[1;34m(self)\u001b[0m\n\u001b[0;32m    672\u001b[0m                 \u001b[0mparams\u001b[0m\u001b[1;33m=\u001b[0m\u001b[0mparams\u001b[0m\u001b[1;33m,\u001b[0m\u001b[1;33m\u001b[0m\u001b[0m\n\u001b[0;32m    673\u001b[0m                 \u001b[0mfiles\u001b[0m\u001b[1;33m=\u001b[0m\u001b[0mfiles\u001b[0m\u001b[1;33m,\u001b[0m\u001b[1;33m\u001b[0m\u001b[0m\n\u001b[1;32m--> 674\u001b[1;33m                 \u001b[0mapi_version\u001b[0m\u001b[1;33m=\u001b[0m\u001b[0mself\u001b[0m\u001b[1;33m.\u001b[0m\u001b[0m_api_version\u001b[0m\u001b[1;33m,\u001b[0m\u001b[1;33m\u001b[0m\u001b[0m\n\u001b[0m\u001b[0;32m    675\u001b[0m             )\n\u001b[0;32m    676\u001b[0m             \u001b[1;32mif\u001b[0m \u001b[0mresponse\u001b[0m\u001b[1;33m.\u001b[0m\u001b[0merror\u001b[0m\u001b[1;33m(\u001b[0m\u001b[1;33m)\u001b[0m\u001b[1;33m:\u001b[0m\u001b[1;33m\u001b[0m\u001b[0m\n",
      "\u001b[1;32m~\\Anaconda2\\envs\\python3\\lib\\site-packages\\facebookads\\api.py\u001b[0m in \u001b[0;36mcall\u001b[1;34m(self, method, path, params, headers, files, url_override, api_version)\u001b[0m\n\u001b[0;32m    330\u001b[0m \u001b[1;33m\u001b[0m\u001b[0m\n\u001b[0;32m    331\u001b[0m         \u001b[1;32mif\u001b[0m \u001b[0mfb_response\u001b[0m\u001b[1;33m.\u001b[0m\u001b[0mis_failure\u001b[0m\u001b[1;33m(\u001b[0m\u001b[1;33m)\u001b[0m\u001b[1;33m:\u001b[0m\u001b[1;33m\u001b[0m\u001b[0m\n\u001b[1;32m--> 332\u001b[1;33m             \u001b[1;32mraise\u001b[0m \u001b[0mfb_response\u001b[0m\u001b[1;33m.\u001b[0m\u001b[0merror\u001b[0m\u001b[1;33m(\u001b[0m\u001b[1;33m)\u001b[0m\u001b[1;33m\u001b[0m\u001b[0m\n\u001b[0m\u001b[0;32m    333\u001b[0m \u001b[1;33m\u001b[0m\u001b[0m\n\u001b[0;32m    334\u001b[0m         \u001b[0mself\u001b[0m\u001b[1;33m.\u001b[0m\u001b[0m_num_requests_succeeded\u001b[0m \u001b[1;33m+=\u001b[0m \u001b[1;36m1\u001b[0m\u001b[1;33m\u001b[0m\u001b[0m\n",
      "\u001b[1;31mFacebookRequestError\u001b[0m: \n\n  Message: Call was not successful\n  Method:  GET\n  Path:    https://graph.facebook.com/v2.11/23842785736620444/\n  Params:  {'fields': 't,a,r,g,e,i,n'}\n\n  Status:  400\n  Response:\n    {\n      \"error\": {\n        \"message\": \"(#100) Tried accessing nonexisting field (t) on node type (AdCampaign)\",\n        \"code\": 100,\n        \"fbtrace_id\": \"Agmr7bpM6Er\",\n        \"type\": \"OAuthException\"\n      }\n    }\n"
     ]
    }
   ],
   "source": [
    "ads.remote_read(fields='targeting')"
   ]
  },
  {
   "cell_type": "code",
   "execution_count": 52,
   "metadata": {
    "collapsed": false
   },
   "outputs": [
    {
     "ename": "KeyError",
     "evalue": "'targeting'",
     "output_type": "error",
     "traceback": [
      "\u001b[1;31m---------------------------------------------------------------------------\u001b[0m",
      "\u001b[1;31mKeyError\u001b[0m                                  Traceback (most recent call last)",
      "\u001b[1;32m<ipython-input-52-50310bea1a1e>\u001b[0m in \u001b[0;36m<module>\u001b[1;34m()\u001b[0m\n\u001b[1;32m----> 1\u001b[1;33m \u001b[0mads\u001b[0m\u001b[1;33m[\u001b[0m\u001b[0mAdSet\u001b[0m\u001b[1;33m.\u001b[0m\u001b[0mField\u001b[0m\u001b[1;33m.\u001b[0m\u001b[0mtargeting\u001b[0m\u001b[1;33m]\u001b[0m\u001b[1;33m\u001b[0m\u001b[0m\n\u001b[0m",
      "\u001b[1;32m~\\Anaconda2\\envs\\python3\\lib\\site-packages\\facebookads\\adobjects\\abstractobject.py\u001b[0m in \u001b[0;36m__getitem__\u001b[1;34m(self, key)\u001b[0m\n\u001b[0;32m     46\u001b[0m \u001b[1;33m\u001b[0m\u001b[0m\n\u001b[0;32m     47\u001b[0m     \u001b[1;32mdef\u001b[0m \u001b[0m__getitem__\u001b[0m\u001b[1;33m(\u001b[0m\u001b[0mself\u001b[0m\u001b[1;33m,\u001b[0m \u001b[0mkey\u001b[0m\u001b[1;33m)\u001b[0m\u001b[1;33m:\u001b[0m\u001b[1;33m\u001b[0m\u001b[0m\n\u001b[1;32m---> 48\u001b[1;33m         \u001b[1;32mreturn\u001b[0m \u001b[0mself\u001b[0m\u001b[1;33m.\u001b[0m\u001b[0m_data\u001b[0m\u001b[1;33m[\u001b[0m\u001b[0mstr\u001b[0m\u001b[1;33m(\u001b[0m\u001b[0mkey\u001b[0m\u001b[1;33m)\u001b[0m\u001b[1;33m]\u001b[0m\u001b[1;33m\u001b[0m\u001b[0m\n\u001b[0m\u001b[0;32m     49\u001b[0m \u001b[1;33m\u001b[0m\u001b[0m\n\u001b[0;32m     50\u001b[0m     \u001b[1;32mdef\u001b[0m \u001b[0m__setitem__\u001b[0m\u001b[1;33m(\u001b[0m\u001b[0mself\u001b[0m\u001b[1;33m,\u001b[0m \u001b[0mkey\u001b[0m\u001b[1;33m,\u001b[0m \u001b[0mvalue\u001b[0m\u001b[1;33m)\u001b[0m\u001b[1;33m:\u001b[0m\u001b[1;33m\u001b[0m\u001b[0m\n",
      "\u001b[1;31mKeyError\u001b[0m: 'targeting'"
     ]
    }
   ],
   "source": [
    "ads[AdSet.Field.targeting]"
   ]
  },
  {
   "cell_type": "code",
   "execution_count": 67,
   "metadata": {
    "collapsed": false
   },
   "outputs": [
    {
     "name": "stderr",
     "output_type": "stream",
     "text": [
      "WARNING:root:parent_id as a parameter of constructor is being deprecated.\n"
     ]
    },
    {
     "data": {
      "text/plain": [
       "<AdSet> {\n",
       "    \"bid_amount\": 1,\n",
       "    \"billing_event\": \"IMPRESSIONS\",\n",
       "    \"campaign_id\": \"23842782704250444\",\n",
       "    \"daily_budget\": 200,\n",
       "    \"id\": \"23842785871030444\",\n",
       "    \"name\": \"SDK AdSet\",\n",
       "    \"optimization_goal\": \"PAGE_LIKES\",\n",
       "    \"promoted_object\": {\n",
       "        \"page_id\": \"103185246428488\"\n",
       "    },\n",
       "    \"targeting\": {\n",
       "        \"age_max\": 26,\n",
       "        \"age_min\": 14,\n",
       "        \"device_platforms\": [\n",
       "            \"mobile\",\n",
       "            \"desktop\"\n",
       "        ],\n",
       "        \"excluded_connections\": [\n",
       "            {\n",
       "                \"id\": \"103185246428488\",\n",
       "                \"name\": \"The ideas behind the Web\"\n",
       "            }\n",
       "        ],\n",
       "        \"facebook_positions\": [\n",
       "            \"feed\"\n",
       "        ],\n",
       "        \"flexible_spec\": [\n",
       "            {\n",
       "                \"interests\": [\n",
       "                    {\n",
       "                        \"id\": \"6003159378782\",\n",
       "                        \"name\": \"Cats\"\n",
       "                    },\n",
       "                    {\n",
       "                        \"id\": \"6003233049485\",\n",
       "                        \"name\": \"I Love Dogs\"\n",
       "                    },\n",
       "                    {\n",
       "                        \"id\": \"6003332344237\",\n",
       "                        \"name\": \"Dogs\"\n",
       "                    },\n",
       "                    {\n",
       "                        \"id\": \"6004037726009\",\n",
       "                        \"name\": \"Pets\"\n",
       "                    }\n",
       "                ]\n",
       "            }\n",
       "        ],\n",
       "        \"geo_locations\": {\n",
       "            \"countries\": [\n",
       "                \"IN\",\n",
       "                \"ID\",\n",
       "                \"PH\",\n",
       "                \"BD\"\n",
       "            ],\n",
       "            \"location_types\": [\n",
       "                \"home\"\n",
       "            ]\n",
       "        },\n",
       "        \"publisher_platforms\": [\n",
       "            \"facebook\"\n",
       "        ]\n",
       "    }\n",
       "}"
      ]
     },
     "execution_count": 67,
     "metadata": {},
     "output_type": "execute_result"
    }
   ],
   "source": [
    "ad_set = AdSet(parent_id='act_356288071441451')\n",
    "ad_set[AdSet.Field.campaign_id] = '23842782704250444'\n",
    "ad_set[AdSet.Field.name] = 'SDK AdSet'\n",
    "ad_set[AdSet.Field.optimization_goal] = Campaign.Objective.page_likes\n",
    "ad_set[AdSet.Field.bid_amount] = 1\n",
    "ad_set[AdSet.Field.daily_budget] = 200\n",
    "ad_set[AdSet.Field.promoted_object] = {\n",
    "    \"page_id\": \"103185246428488\"\n",
    "  }\n",
    "\n",
    "ad_set[AdSet.Field.billing_event] = 'IMPRESSIONS'\n",
    "ad_set[AdSet.Field.targeting] = {\n",
    "    \"age_max\": 26,\n",
    "    \"age_min\": 14,\n",
    "    \"excluded_connections\": [\n",
    "      {\n",
    "        \"id\": \"103185246428488\",\n",
    "        \"name\": \"The ideas behind the Web\"\n",
    "      }\n",
    "    ],\n",
    "    \"flexible_spec\": [\n",
    "      {\n",
    "        \"interests\": [\n",
    "          {\n",
    "            \"id\": \"6003159378782\",\n",
    "            \"name\": \"Cats\"\n",
    "          },\n",
    "          {\n",
    "            \"id\": \"6003233049485\",\n",
    "            \"name\": \"I Love Dogs\"\n",
    "          },\n",
    "          {\n",
    "            \"id\": \"6003332344237\",\n",
    "            \"name\": \"Dogs\"\n",
    "          },\n",
    "          {\n",
    "            \"id\": \"6004037726009\",\n",
    "            \"name\": \"Pets\"\n",
    "          }\n",
    "        ]\n",
    "      }\n",
    "    ],\n",
    "    \"geo_locations\": {\n",
    "      \"countries\": [\n",
    "        \"IN\",\n",
    "        \"ID\",\n",
    "        \"PH\",\n",
    "        \"BD\"\n",
    "      ],\n",
    "      \"location_types\": [\n",
    "        \"home\"\n",
    "      ]\n",
    "    },\n",
    "    \"publisher_platforms\": [\n",
    "      \"facebook\"\n",
    "    ],\n",
    "    \"facebook_positions\": [\n",
    "      \"feed\"\n",
    "    ],\n",
    "    \"device_platforms\": [\n",
    "      \"mobile\",\n",
    "      \"desktop\"\n",
    "    ]\n",
    "  }\n",
    "ad_set.remote_create()"
   ]
  },
  {
   "cell_type": "code",
   "execution_count": 75,
   "metadata": {
    "collapsed": false
   },
   "outputs": [
    {
     "name": "stderr",
     "output_type": "stream",
     "text": [
      "WARNING:root:parent_id as a parameter of constructor is being deprecated.\n"
     ]
    }
   ],
   "source": [
    "from facebookads.adobjects.ad import Ad\n",
    "adgroup = Ad(\"23842787744590444\", parent_id='act_356288071441451')\n",
    "adgroup['name'] = \"Ad using SDK\"\n",
    "adgroup['adset_id'] = ad_set['id']\n",
    "adgroup['creative'] = {\n",
    "    \"id\": \"23842785756230444\"\n",
    "  }\n",
    "adgroup['status'] = 'ACTIVE'\n",
    "adgroup['conversion_specs'] = [\n",
    "    {\n",
    "      \"action.type\": [\n",
    "        \"like\"\n",
    "      ],\n",
    "      \"page\": [\n",
    "        \"103185246428488\"\n",
    "      ]\n",
    "    }\n",
    "  ]"
   ]
  },
  {
   "cell_type": "code",
   "execution_count": 127,
   "metadata": {
    "collapsed": false
   },
   "outputs": [
    {
     "name": "stderr",
     "output_type": "stream",
     "text": [
      "WARNING:root:parent_id as a parameter of constructor is being deprecated.\n"
     ]
    }
   ],
   "source": [
    "ad_set = AdSet(\"23842787744590444\", parent_id='act_356288071441451')"
   ]
  },
  {
   "cell_type": "code",
   "execution_count": 128,
   "metadata": {
    "collapsed": false
   },
   "outputs": [
    {
     "ename": "FacebookRequestError",
     "evalue": "\n\n  Message: Call was not successful\n  Method:  GET\n  Path:    https://graph.facebook.com/v2.11/23842787744590444/\n  Params:  {'fields': 'bid_amount,billing_event,is_autobid,is_average_price_pacing,optimization_goal,pacing_type'}\n\n  Status:  403\n  Response:\n    {\n      \"error\": {\n        \"message\": \"(#200) Cannot access an object not managed by the business owning this app.\",\n        \"code\": 200,\n        \"fbtrace_id\": \"CC6WjUoqv8c\",\n        \"type\": \"OAuthException\"\n      }\n    }\n",
     "output_type": "error",
     "traceback": [
      "\u001b[1;31m---------------------------------------------------------------------------\u001b[0m",
      "\u001b[1;31mFacebookRequestError\u001b[0m                      Traceback (most recent call last)",
      "\u001b[1;32m<ipython-input-128-4413da5b589e>\u001b[0m in \u001b[0;36m<module>\u001b[1;34m()\u001b[0m\n\u001b[1;32m----> 1\u001b[1;33m \u001b[0mad_set\u001b[0m\u001b[1;33m.\u001b[0m\u001b[0mremote_read\u001b[0m\u001b[1;33m(\u001b[0m\u001b[0mfields\u001b[0m\u001b[1;33m=\u001b[0m\u001b[1;33m[\u001b[0m\u001b[1;34m\"bid_amount\"\u001b[0m\u001b[1;33m,\u001b[0m \u001b[1;34m\"billing_event\"\u001b[0m\u001b[1;33m,\u001b[0m \u001b[1;34m\"is_autobid\"\u001b[0m\u001b[1;33m,\u001b[0m \u001b[1;34m\"is_average_price_pacing\"\u001b[0m\u001b[1;33m,\u001b[0m \u001b[1;34m\"optimization_goal\"\u001b[0m\u001b[1;33m,\u001b[0m \u001b[1;34m\"pacing_type\"\u001b[0m\u001b[1;33m]\u001b[0m\u001b[1;33m)\u001b[0m\u001b[1;33m\u001b[0m\u001b[0m\n\u001b[0m",
      "\u001b[1;32m~\\Anaconda2\\envs\\python3\\lib\\site-packages\\facebookads\\adobjects\\abstractcrudobject.py\u001b[0m in \u001b[0;36mremote_read\u001b[1;34m(self, batch, failure, fields, params, success, api_version)\u001b[0m\n\u001b[0;32m    366\u001b[0m             \u001b[1;32mreturn\u001b[0m \u001b[0mbatch_call\u001b[0m\u001b[1;33m\u001b[0m\u001b[0m\n\u001b[0;32m    367\u001b[0m         \u001b[1;32melse\u001b[0m\u001b[1;33m:\u001b[0m\u001b[1;33m\u001b[0m\u001b[0m\n\u001b[1;32m--> 368\u001b[1;33m             \u001b[0mself\u001b[0m \u001b[1;33m=\u001b[0m \u001b[0mrequest\u001b[0m\u001b[1;33m.\u001b[0m\u001b[0mexecute\u001b[0m\u001b[1;33m(\u001b[0m\u001b[1;33m)\u001b[0m\u001b[1;33m\u001b[0m\u001b[0m\n\u001b[0m\u001b[0;32m    369\u001b[0m             \u001b[1;32mreturn\u001b[0m \u001b[0mself\u001b[0m\u001b[1;33m\u001b[0m\u001b[0m\n\u001b[0;32m    370\u001b[0m \u001b[1;33m\u001b[0m\u001b[0m\n",
      "\u001b[1;32m~\\Anaconda2\\envs\\python3\\lib\\site-packages\\facebookads\\api.py\u001b[0m in \u001b[0;36mexecute\u001b[1;34m(self)\u001b[0m\n\u001b[0;32m    672\u001b[0m                 \u001b[0mparams\u001b[0m\u001b[1;33m=\u001b[0m\u001b[0mparams\u001b[0m\u001b[1;33m,\u001b[0m\u001b[1;33m\u001b[0m\u001b[0m\n\u001b[0;32m    673\u001b[0m                 \u001b[0mfiles\u001b[0m\u001b[1;33m=\u001b[0m\u001b[0mfiles\u001b[0m\u001b[1;33m,\u001b[0m\u001b[1;33m\u001b[0m\u001b[0m\n\u001b[1;32m--> 674\u001b[1;33m                 \u001b[0mapi_version\u001b[0m\u001b[1;33m=\u001b[0m\u001b[0mself\u001b[0m\u001b[1;33m.\u001b[0m\u001b[0m_api_version\u001b[0m\u001b[1;33m,\u001b[0m\u001b[1;33m\u001b[0m\u001b[0m\n\u001b[0m\u001b[0;32m    675\u001b[0m             )\n\u001b[0;32m    676\u001b[0m             \u001b[1;32mif\u001b[0m \u001b[0mresponse\u001b[0m\u001b[1;33m.\u001b[0m\u001b[0merror\u001b[0m\u001b[1;33m(\u001b[0m\u001b[1;33m)\u001b[0m\u001b[1;33m:\u001b[0m\u001b[1;33m\u001b[0m\u001b[0m\n",
      "\u001b[1;32m~\\Anaconda2\\envs\\python3\\lib\\site-packages\\facebookads\\api.py\u001b[0m in \u001b[0;36mcall\u001b[1;34m(self, method, path, params, headers, files, url_override, api_version)\u001b[0m\n\u001b[0;32m    330\u001b[0m \u001b[1;33m\u001b[0m\u001b[0m\n\u001b[0;32m    331\u001b[0m         \u001b[1;32mif\u001b[0m \u001b[0mfb_response\u001b[0m\u001b[1;33m.\u001b[0m\u001b[0mis_failure\u001b[0m\u001b[1;33m(\u001b[0m\u001b[1;33m)\u001b[0m\u001b[1;33m:\u001b[0m\u001b[1;33m\u001b[0m\u001b[0m\n\u001b[1;32m--> 332\u001b[1;33m             \u001b[1;32mraise\u001b[0m \u001b[0mfb_response\u001b[0m\u001b[1;33m.\u001b[0m\u001b[0merror\u001b[0m\u001b[1;33m(\u001b[0m\u001b[1;33m)\u001b[0m\u001b[1;33m\u001b[0m\u001b[0m\n\u001b[0m\u001b[0;32m    333\u001b[0m \u001b[1;33m\u001b[0m\u001b[0m\n\u001b[0;32m    334\u001b[0m         \u001b[0mself\u001b[0m\u001b[1;33m.\u001b[0m\u001b[0m_num_requests_succeeded\u001b[0m \u001b[1;33m+=\u001b[0m \u001b[1;36m1\u001b[0m\u001b[1;33m\u001b[0m\u001b[0m\n",
      "\u001b[1;31mFacebookRequestError\u001b[0m: \n\n  Message: Call was not successful\n  Method:  GET\n  Path:    https://graph.facebook.com/v2.11/23842787744590444/\n  Params:  {'fields': 'bid_amount,billing_event,is_autobid,is_average_price_pacing,optimization_goal,pacing_type'}\n\n  Status:  403\n  Response:\n    {\n      \"error\": {\n        \"message\": \"(#200) Cannot access an object not managed by the business owning this app.\",\n        \"code\": 200,\n        \"fbtrace_id\": \"CC6WjUoqv8c\",\n        \"type\": \"OAuthException\"\n      }\n    }\n"
     ]
    }
   ],
   "source": [
    "ad_set.remote_read(fields=[\"bid_amount\", \"billing_event\", \"is_autobid\", \"is_average_price_pacing\", \"optimization_goal\", \"pacing_type\"])"
   ]
  },
  {
   "cell_type": "code",
   "execution_count": null,
   "metadata": {
    "collapsed": true
   },
   "outputs": [],
   "source": [
    "ad_set.c"
   ]
  },
  {
   "cell_type": "code",
   "execution_count": 109,
   "metadata": {
    "collapsed": false
   },
   "outputs": [
    {
     "name": "stderr",
     "output_type": "stream",
     "text": [
      "C:\\Users\\Veniversum\\Anaconda2\\envs\\python3\\lib\\site-packages\\facebookads\\utils\\api_utils.py:30: UserWarning:  does not allow field daily_min_spend_target\n",
      "  warnings.warn(message)\n"
     ]
    },
    {
     "ename": "FacebookRequestError",
     "evalue": "\n\n  Message: Call was not successful\n  Method:  GET\n  Path:    https://graph.facebook.com/v2.11/23842782704250444/\n  Params:  {'fields': 'daily_min_spend_target'}\n\n  Status:  400\n  Response:\n    {\n      \"error\": {\n        \"message\": \"(#100) Tried accessing nonexisting field (daily_min_spend_target) on node type (AdCampaignGroup)\",\n        \"code\": 100,\n        \"fbtrace_id\": \"HYBxjJlyd7+\",\n        \"type\": \"OAuthException\"\n      }\n    }\n",
     "output_type": "error",
     "traceback": [
      "\u001b[1;31m---------------------------------------------------------------------------\u001b[0m",
      "\u001b[1;31mFacebookRequestError\u001b[0m                      Traceback (most recent call last)",
      "\u001b[1;32m<ipython-input-109-5628ed12a367>\u001b[0m in \u001b[0;36m<module>\u001b[1;34m()\u001b[0m\n\u001b[1;32m----> 1\u001b[1;33m \u001b[0mcamp\u001b[0m\u001b[1;33m.\u001b[0m\u001b[0mremote_read\u001b[0m\u001b[1;33m(\u001b[0m\u001b[0mfields\u001b[0m\u001b[1;33m=\u001b[0m\u001b[1;33m[\u001b[0m\u001b[1;34m\"daily_min_spend_target\"\u001b[0m\u001b[1;33m]\u001b[0m\u001b[1;33m)\u001b[0m\u001b[1;33m\u001b[0m\u001b[0m\n\u001b[0m",
      "\u001b[1;32m~\\Anaconda2\\envs\\python3\\lib\\site-packages\\facebookads\\adobjects\\abstractcrudobject.py\u001b[0m in \u001b[0;36mremote_read\u001b[1;34m(self, batch, failure, fields, params, success, api_version)\u001b[0m\n\u001b[0;32m    366\u001b[0m             \u001b[1;32mreturn\u001b[0m \u001b[0mbatch_call\u001b[0m\u001b[1;33m\u001b[0m\u001b[0m\n\u001b[0;32m    367\u001b[0m         \u001b[1;32melse\u001b[0m\u001b[1;33m:\u001b[0m\u001b[1;33m\u001b[0m\u001b[0m\n\u001b[1;32m--> 368\u001b[1;33m             \u001b[0mself\u001b[0m \u001b[1;33m=\u001b[0m \u001b[0mrequest\u001b[0m\u001b[1;33m.\u001b[0m\u001b[0mexecute\u001b[0m\u001b[1;33m(\u001b[0m\u001b[1;33m)\u001b[0m\u001b[1;33m\u001b[0m\u001b[0m\n\u001b[0m\u001b[0;32m    369\u001b[0m             \u001b[1;32mreturn\u001b[0m \u001b[0mself\u001b[0m\u001b[1;33m\u001b[0m\u001b[0m\n\u001b[0;32m    370\u001b[0m \u001b[1;33m\u001b[0m\u001b[0m\n",
      "\u001b[1;32m~\\Anaconda2\\envs\\python3\\lib\\site-packages\\facebookads\\api.py\u001b[0m in \u001b[0;36mexecute\u001b[1;34m(self)\u001b[0m\n\u001b[0;32m    672\u001b[0m                 \u001b[0mparams\u001b[0m\u001b[1;33m=\u001b[0m\u001b[0mparams\u001b[0m\u001b[1;33m,\u001b[0m\u001b[1;33m\u001b[0m\u001b[0m\n\u001b[0;32m    673\u001b[0m                 \u001b[0mfiles\u001b[0m\u001b[1;33m=\u001b[0m\u001b[0mfiles\u001b[0m\u001b[1;33m,\u001b[0m\u001b[1;33m\u001b[0m\u001b[0m\n\u001b[1;32m--> 674\u001b[1;33m                 \u001b[0mapi_version\u001b[0m\u001b[1;33m=\u001b[0m\u001b[0mself\u001b[0m\u001b[1;33m.\u001b[0m\u001b[0m_api_version\u001b[0m\u001b[1;33m,\u001b[0m\u001b[1;33m\u001b[0m\u001b[0m\n\u001b[0m\u001b[0;32m    675\u001b[0m             )\n\u001b[0;32m    676\u001b[0m             \u001b[1;32mif\u001b[0m \u001b[0mresponse\u001b[0m\u001b[1;33m.\u001b[0m\u001b[0merror\u001b[0m\u001b[1;33m(\u001b[0m\u001b[1;33m)\u001b[0m\u001b[1;33m:\u001b[0m\u001b[1;33m\u001b[0m\u001b[0m\n",
      "\u001b[1;32m~\\Anaconda2\\envs\\python3\\lib\\site-packages\\facebookads\\api.py\u001b[0m in \u001b[0;36mcall\u001b[1;34m(self, method, path, params, headers, files, url_override, api_version)\u001b[0m\n\u001b[0;32m    330\u001b[0m \u001b[1;33m\u001b[0m\u001b[0m\n\u001b[0;32m    331\u001b[0m         \u001b[1;32mif\u001b[0m \u001b[0mfb_response\u001b[0m\u001b[1;33m.\u001b[0m\u001b[0mis_failure\u001b[0m\u001b[1;33m(\u001b[0m\u001b[1;33m)\u001b[0m\u001b[1;33m:\u001b[0m\u001b[1;33m\u001b[0m\u001b[0m\n\u001b[1;32m--> 332\u001b[1;33m             \u001b[1;32mraise\u001b[0m \u001b[0mfb_response\u001b[0m\u001b[1;33m.\u001b[0m\u001b[0merror\u001b[0m\u001b[1;33m(\u001b[0m\u001b[1;33m)\u001b[0m\u001b[1;33m\u001b[0m\u001b[0m\n\u001b[0m\u001b[0;32m    333\u001b[0m \u001b[1;33m\u001b[0m\u001b[0m\n\u001b[0;32m    334\u001b[0m         \u001b[0mself\u001b[0m\u001b[1;33m.\u001b[0m\u001b[0m_num_requests_succeeded\u001b[0m \u001b[1;33m+=\u001b[0m \u001b[1;36m1\u001b[0m\u001b[1;33m\u001b[0m\u001b[0m\n",
      "\u001b[1;31mFacebookRequestError\u001b[0m: \n\n  Message: Call was not successful\n  Method:  GET\n  Path:    https://graph.facebook.com/v2.11/23842782704250444/\n  Params:  {'fields': 'daily_min_spend_target'}\n\n  Status:  400\n  Response:\n    {\n      \"error\": {\n        \"message\": \"(#100) Tried accessing nonexisting field (daily_min_spend_target) on node type (AdCampaignGroup)\",\n        \"code\": 100,\n        \"fbtrace_id\": \"HYBxjJlyd7+\",\n        \"type\": \"OAuthException\"\n      }\n    }\n"
     ]
    }
   ],
   "source": [
    "camp.remote_read(fields=[\"daily_min_spend_target\"])"
   ]
  }
 ],
 "metadata": {
  "kernelspec": {
   "display_name": "Python 3",
   "language": "python",
   "name": "python3"
  },
  "language_info": {
   "codemirror_mode": {
    "name": "ipython",
    "version": 3
   },
   "file_extension": ".py",
   "mimetype": "text/x-python",
   "name": "python",
   "nbconvert_exporter": "python",
   "pygments_lexer": "ipython3",
   "version": "3.5.2"
  }
 },
 "nbformat": 4,
 "nbformat_minor": 1
}
